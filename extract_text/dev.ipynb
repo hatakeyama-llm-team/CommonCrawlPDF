{
 "cells": [
  {
   "cell_type": "code",
   "execution_count": 2,
   "metadata": {},
   "outputs": [],
   "source": [
    "#!pip install PyMuPDF"
   ]
  },
  {
   "cell_type": "code",
   "execution_count": 19,
   "metadata": {},
   "outputs": [
    {
     "data": {
      "text/plain": [
       "57177"
      ]
     },
     "execution_count": 19,
     "metadata": {},
     "output_type": "execute_result"
    }
   ],
   "source": [
    "import glob\n",
    "import fitz  # PyMuPDF\n",
    "import re\n",
    "pdf_path_list=glob.glob(\"../data/*/*.pdf\",\n",
    "                        recursive=True)\n",
    "len(pdf_path_list)"
   ]
  },
  {
   "cell_type": "code",
   "execution_count": 87,
   "metadata": {},
   "outputs": [
    {
     "name": "stderr",
     "output_type": "stream",
     "text": [
      "  0%|          | 96/57177 [00:06<58:12, 16.34it/s]  "
     ]
    }
   ],
   "source": [
    "import json\n",
    "from tqdm import tqdm\n",
    "save_path=\"output.jsonl\"\n",
    "\n",
    "with open(save_path,\"w\") as f:\n",
    "  f.write(\"\")\n",
    "\n",
    "path=pdf_path_list[14]\n",
    "\n",
    "for path in tqdm(pdf_path_list):\n",
    "    filename=path.split(\"/\")[-1].split(\".\")[0]\n",
    "\n",
    "    try:\n",
    "        doc = fitz.open(path)\n",
    "        text_list=[]\n",
    "        for page in doc:\n",
    "            tmp_text = page.get_text(\"text\")\n",
    "            blocks = page.get_text(\"blocks\")\n",
    "            #for block in blocks[1:-1]:\n",
    "            for block in blocks:\n",
    "                #4つめのblockにテキスト｡ それ以外は座標?\n",
    "                block_4 = block[4]\n",
    "                block_4 = re.sub('\\n', '', block_4)\n",
    "                block_4 = re.sub('\\u3000', '', block_4)\n",
    "                if block_4.find(\"<image:\")==0:\n",
    "                    continue\n",
    "                if len(block_4) > 5:\n",
    "                    text_list.append(block_4)\n",
    "\n",
    "        txt=\"\\n\".join(text_list)\n",
    "        with open(save_path, \"a\", encoding='utf-8', errors='ignore') as f:\n",
    "            f.write(json.dumps({\"file\":filename,\"text\":txt},ensure_ascii=False)+\"\\n\")\n",
    "\n",
    "    except:\n",
    "        continue"
   ]
  },
  {
   "cell_type": "code",
   "execution_count": null,
   "metadata": {},
   "outputs": [],
   "source": []
  }
 ],
 "metadata": {
  "kernelspec": {
   "display_name": "mi",
   "language": "python",
   "name": "python3"
  },
  "language_info": {
   "codemirror_mode": {
    "name": "ipython",
    "version": 3
   },
   "file_extension": ".py",
   "mimetype": "text/x-python",
   "name": "python",
   "nbconvert_exporter": "python",
   "pygments_lexer": "ipython3",
   "version": "3.11.3"
  }
 },
 "nbformat": 4,
 "nbformat_minor": 2
}
