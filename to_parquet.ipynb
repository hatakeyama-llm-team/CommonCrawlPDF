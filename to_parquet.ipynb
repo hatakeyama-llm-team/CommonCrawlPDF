{
 "cells": [
  {
   "cell_type": "code",
   "execution_count": 3,
   "metadata": {},
   "outputs": [
    {
     "name": "stderr",
     "output_type": "stream",
     "text": [
      "141883it [00:10, 13481.33it/s]\n"
     ]
    }
   ],
   "source": [
    "import pandas as pd\n",
    "import json\n",
    "from tqdm import tqdm\n",
    "path=\"parquet/1.parquet\"\n",
    "# .xz ファイルを開いて内容をチャンクで読み込む\n",
    "text_list=[]\n",
    "file_list=[]\n",
    "with open(\"extract_text/output.jsonl\",\"r\") as file:\n",
    "\n",
    "    for line in tqdm(file):\n",
    "        d=json.loads(line)\n",
    "        file_list.append(d[\"file\"])\n",
    "        text_list.append(d[\"text\"])\n"
   ]
  },
  {
   "cell_type": "code",
   "execution_count": 4,
   "metadata": {},
   "outputs": [],
   "source": [
    "\n",
    "\n",
    "# break\n",
    "df = pd.DataFrame(text_list, columns=[\"text\"]).reset_index()\n",
    "df[\"file\"]=file_list\n",
    "df.to_parquet(path)"
   ]
  },
  {
   "cell_type": "code",
   "execution_count": null,
   "metadata": {},
   "outputs": [],
   "source": []
  }
 ],
 "metadata": {
  "kernelspec": {
   "display_name": "mi",
   "language": "python",
   "name": "python3"
  },
  "language_info": {
   "codemirror_mode": {
    "name": "ipython",
    "version": 3
   },
   "file_extension": ".py",
   "mimetype": "text/x-python",
   "name": "python",
   "nbconvert_exporter": "python",
   "pygments_lexer": "ipython3",
   "version": "3.11.3"
  }
 },
 "nbformat": 4,
 "nbformat_minor": 2
}
